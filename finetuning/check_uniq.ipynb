{
  "nbformat": 4,
  "nbformat_minor": 0,
  "metadata": {
    "colab": {
      "name": "check_uniq.ipynb",
      "provenance": []
    },
    "kernelspec": {
      "name": "python3",
      "display_name": "Python 3"
    },
    "language_info": {
      "name": "python"
    }
  },
  "cells": [
    {
      "cell_type": "markdown",
      "source": [
        "# Install necessity enviroment and import required packages"
      ],
      "metadata": {
        "id": "TyEbRNiqnhq-"
      }
    },
    {
      "cell_type": "code",
      "metadata": {
        "id": "oLZj4fUQlrfs"
      },
      "source": [
        "import pandas as pd\n",
        "import nltk"
      ],
      "execution_count": 1,
      "outputs": []
    },
    {
      "cell_type": "code",
      "metadata": {
        "colab": {
          "base_uri": "https://localhost:8080/"
        },
        "id": "tb4dFcSFl1nt",
        "outputId": "c92df3bb-4e58-4ba9-f429-d94349162b25"
      },
      "source": [
        "from google.colab import drive\n",
        "drive.mount('/content/drive')"
      ],
      "execution_count": 2,
      "outputs": [
        {
          "output_type": "stream",
          "name": "stdout",
          "text": [
            "Mounted at /content/drive\n"
          ]
        }
      ]
    },
    {
      "cell_type": "markdown",
      "source": [
        "# Load generated and original data"
      ],
      "metadata": {
        "id": "SOrRmvZznpxo"
      }
    },
    {
      "cell_type": "code",
      "metadata": {
        "id": "43lY4tI9mK3Q"
      },
      "source": [
        "HR = pd.read_excel(\"/content/drive/MyDrive/work/course_work/Headings_wo_emoji.xlsx\")\n",
        "HR_headings = HR.start.values"
      ],
      "execution_count": 4,
      "outputs": []
    },
    {
      "cell_type": "code",
      "metadata": {
        "id": "Hv74g5MHmvll"
      },
      "source": [
        "small_GPT_headings = pd.read_excel(\"/content/drive/MyDrive/work/course_work/work_with_starts/small_gpt.xlsx\").rename(columns={0: \"mess\"})\n",
        "small_GPT_headings = small_GPT_headings[\"mess\"].values"
      ],
      "execution_count": 7,
      "outputs": []
    },
    {
      "cell_type": "code",
      "metadata": {
        "id": "b6JVAh8Kmwv_"
      },
      "source": [
        "medium_GPT_headings = pd.read_excel(\"/content/drive/MyDrive/work/course_work/work_with_starts/medium_gpt.xlsx\").rename(columns={0: \"mess\"})\n",
        "medium_GPT_headings = medium_GPT_headings[\"mess\"].values"
      ],
      "execution_count": 8,
      "outputs": []
    },
    {
      "cell_type": "code",
      "metadata": {
        "id": "Yy6QDbB5my1y"
      },
      "source": [
        "dungeon = pd.read_excel(\"/content/drive/MyDrive/work/course_work/work_with_starts/unfinetuned_dungeon.xlsx\").rename(columns={0: \"mess\"})\n",
        "dungeon_headings = dungeon.mess.values"
      ],
      "execution_count": 11,
      "outputs": []
    },
    {
      "cell_type": "code",
      "metadata": {
        "id": "bGm57Bl4m0i2"
      },
      "source": [
        "prefs = pd.read_csv(\"/content/drive/MyDrive/work/course_work/GenerationPrefixes.csv\", sep=';')\n",
        "prefs = prefs.iloc[0].values"
      ],
      "execution_count": 10,
      "outputs": []
    },
    {
      "cell_type": "markdown",
      "source": [
        "Function to count a Leveinstain distance"
      ],
      "metadata": {
        "id": "N0gvdxW_n5Cy"
      }
    },
    {
      "cell_type": "code",
      "metadata": {
        "id": "noDY7uaXl2Kw"
      },
      "source": [
        "def count_distance(str1, str2):\n",
        "  return nltk.edit_distance(str1, str2) / max(len(str1), len(str2))"
      ],
      "execution_count": 12,
      "outputs": []
    },
    {
      "cell_type": "markdown",
      "metadata": {
        "id": "rxaVNKzinU3j"
      },
      "source": [
        "# Check a Levenstain distaces between origin and generated texts"
      ]
    },
    {
      "cell_type": "code",
      "metadata": {
        "id": "kfVrhlFFpERR"
      },
      "source": [
        "for real_end, sint_end in zip(prefs, medium_GPT_headings):\n",
        "  print(\"Distance:\", count_distance(real_end, sint_end))"
      ],
      "execution_count": 22,
      "outputs": []
    },
    {
      "cell_type": "markdown",
      "metadata": {
        "id": "Q5XCMv-SndPZ"
      },
      "source": [
        "### Make it more attractive for eyes"
      ]
    },
    {
      "cell_type": "code",
      "metadata": {
        "id": "vxlADsfNoim1"
      },
      "source": [
        "THRESH = 0.1\n",
        "\n",
        "def show_plagiat_with_prefs(sint_set, real_set, show=False):\n",
        "  plag_counter = 0\n",
        "  for sint_text, real_text in zip(sint_set, real_set):\n",
        "    distance = count_distance(sint_text, real_text)\n",
        "    if show:\n",
        "      print(distance)\n",
        "    if distance <= THRESH:\n",
        "      plag_counter += 1\n",
        "\n",
        "  print(f\"Plagiat detected in {plag_counter} messages\")"
      ],
      "execution_count": 15,
      "outputs": []
    },
    {
      "cell_type": "code",
      "metadata": {
        "colab": {
          "base_uri": "https://localhost:8080/"
        },
        "id": "hB72BeQsnAo3",
        "outputId": "0bbaf6af-a5cf-4754-8582-ef7352ffd210"
      },
      "source": [
        "show_plagiat_with_prefs(dungeon_headings, prefs)"
      ],
      "execution_count": 16,
      "outputs": [
        {
          "output_type": "stream",
          "name": "stdout",
          "text": [
            "Plagiat detected in 24 messages\n"
          ]
        }
      ]
    },
    {
      "cell_type": "code",
      "metadata": {
        "colab": {
          "base_uri": "https://localhost:8080/"
        },
        "id": "v0XxG1Ssn2HE",
        "outputId": "ca15c81e-ec53-4176-94e0-939ca53b9ef2"
      },
      "source": [
        "show_plagiat_with_prefs(small_GPT_headings, prefs)"
      ],
      "execution_count": 17,
      "outputs": [
        {
          "output_type": "stream",
          "name": "stdout",
          "text": [
            "Plagiat detected in 2 messages\n"
          ]
        }
      ]
    },
    {
      "cell_type": "code",
      "metadata": {
        "colab": {
          "base_uri": "https://localhost:8080/"
        },
        "id": "kSLaxJRTn49G",
        "outputId": "0cf7e7cc-a396-4798-c778-6e65ce913f4b"
      },
      "source": [
        "show_plagiat_with_prefs(prefs, medium_GPT_headings)"
      ],
      "execution_count": 18,
      "outputs": [
        {
          "output_type": "stream",
          "name": "stdout",
          "text": [
            "Plagiat detected in 2 messages\n"
          ]
        }
      ]
    },
    {
      "cell_type": "markdown",
      "metadata": {
        "id": "OTxfONjtodBf"
      },
      "source": [
        "### Check on the similarity with original data"
      ]
    },
    {
      "cell_type": "code",
      "metadata": {
        "id": "Y5g9HuNqnxfb"
      },
      "source": [
        "def show_plagiat(sint_set, real_set, show=False, THRESH = 0.1):\n",
        "  plag_counter = 0\n",
        "  for sint_text in sint_set:\n",
        "    for real_text in real_set:\n",
        "      if count_distance(sint_text, real_text) <= THRESH:\n",
        "        plag_counter += 1\n",
        "        if show:\n",
        "          print(f\"HR mess: {real_text}\")\n",
        "          print(f\"Neuro mess: {sint_text}\")\n",
        "          print(\"_\" * 40)\n",
        "  print(f\"Plagiat detected in {plag_counter} messages\")"
      ],
      "execution_count": 20,
      "outputs": []
    },
    {
      "cell_type": "code",
      "metadata": {
        "id": "B-EJjeK8pf5a"
      },
      "source": [
        "show_plagiat(dungeon_headings, HR_headings)"
      ],
      "execution_count": 24,
      "outputs": []
    },
    {
      "cell_type": "code",
      "metadata": {
        "id": "ZtcvyuWIpjsQ"
      },
      "source": [
        "show_plagiat(small_GPT_headings, HR_headings)"
      ],
      "execution_count": 25,
      "outputs": []
    },
    {
      "cell_type": "code",
      "metadata": {
        "id": "qLQsyLrYpv8_"
      },
      "source": [
        "show_plagiat(medium_GPT_headings, HR_headings)"
      ],
      "execution_count": 26,
      "outputs": []
    },
    {
      "cell_type": "markdown",
      "source": [
        "### Now you may make something with information about plagiats :)"
      ],
      "metadata": {
        "id": "M_uP8DHIo21O"
      }
    },
    {
      "cell_type": "code",
      "metadata": {
        "id": "3UgSOqCZDjU4"
      },
      "source": [
        ""
      ],
      "execution_count": null,
      "outputs": []
    }
  ]
}
